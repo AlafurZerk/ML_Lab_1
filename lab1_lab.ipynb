{
 "cells": [
  {
   "cell_type": "markdown",
   "id": "16b1d570-d875-426a-b144-0d1356cdc9cb",
   "metadata": {},
   "source": [
    "# Практическое задание №1\n",
    "\n",
    "**жирный текст** *курсив*"
   ]
  },
  {
   "cell_type": "markdown",
   "id": "d4f2a0f7-e66e-43b4-b20b-f762d673ecc3",
   "metadata": {},
   "source": [
    "Список маркированный:\n",
    "- 1\n",
    "- 2\n",
    "- 3"
   ]
  },
  {
   "cell_type": "markdown",
   "id": "35a0d9e7-c1a8-44f2-bae8-6f17fba8c773",
   "metadata": {},
   "source": [
    "1. Первый элемент списка\n",
    "2. Второй элемент списка\n",
    "3. Третий элемент списка"
   ]
  },
  {
   "cell_type": "markdown",
   "id": "68cf3315-77c9-4ae5-917b-daeecf1c0d73",
   "metadata": {},
   "source": [
    "![Альтернативный текст](https://avatars.mds.yandex.net/i?id=0b597316ee30d888af4c9596da42be1f28ce7b6f-4612849-images-thumbs&n=13)"
   ]
  },
  {
   "cell_type": "markdown",
   "id": "03d8a084-e246-4b35-8d5b-c47d16513b76",
   "metadata": {},
   "source": [
    "$$\\mathcal{L}\\{f(t)\\} = \\int_{0}^{\\infty} e^{-st} f(t) \\, dt$$"
   ]
  },
  {
   "cell_type": "code",
   "execution_count": 5,
   "id": "19de1456-85f5-4f25-9b98-603e265b2d6c",
   "metadata": {},
   "outputs": [
    {
     "name": "stdout",
     "output_type": "stream",
     "text": [
      "Содержимое файла:\n",
      " Первая строка\n",
      "Вторая строка\n",
      "\n",
      "Файл существует: True\n",
      "Файл удален.\n"
     ]
    }
   ],
   "source": [
    "import os\n",
    "\n",
    "with open(\"example.txt\", \"w\") as f:\n",
    "    f.write(\"Первая строка\\n\")\n",
    "    f.write(\"Вторая строка\\n\")\n",
    "\n",
    "\n",
    "with open(\"example.txt\", \"r\") as f:\n",
    "    content = f.read()\n",
    "    print(\"Содержимое файла:\\n\", content)\n",
    "\n",
    "print(\"Файл существует:\", os.path.exists(\"example.txt\"))\n",
    "\n",
    "os.remove(\"example.txt\")\n",
    "print(\"Файл удален.\")"
   ]
  },
  {
   "cell_type": "code",
   "execution_count": 6,
   "id": "71d147d5-d31c-4c35-a823-06d592579926",
   "metadata": {},
   "outputs": [
    {
     "name": "stdout",
     "output_type": "stream",
     "text": [
      "Writing test_script.py\n"
     ]
    }
   ],
   "source": [
    "%%writefile test_script.py\n",
    "for i in range(5):\n",
    "    print(f\"Итерация {i}\")\n",
    "\n",
    "!python test_script.py\n",
    "\n",
    "%time sum(range(1000000))"
   ]
  },
  {
   "cell_type": "code",
   "execution_count": null,
   "id": "5d4765ad-756c-4ac4-828a-98bbdfb410df",
   "metadata": {},
   "outputs": [],
   "source": [
    "from google.colab import drive\n",
    "import os\n",
    "\n",
    "try:\n",
    "    drive.mount('/content/drive', force_remount=True)\n",
    "    print(\"Google Drive успешно смонтирован.\")\n",
    "except Exception as e:\n",
    "    print(f\"Ошибка при монтировании Google Drive: {e}\")\n",
    "    exit()\n",
    "\n",
    "file_path = \"/content/drive/MyDrive/my_text_file.txt\"\n",
    "csv_path = \"/content/drive/MyDrive/students.csv\"\n",
    "\n",
    "try:\n",
    "    with open(file_path, \"w\", encoding='utf-8') as f:\n",
    "        f.write(\"Это тестовый файл, сохраненный в Google Drive.\\n\")\n",
    "        f.write(\"Вторая строка текста.\")\n",
    "    print(\"Файл my_text_file.txt успешно сохранен в Google Drive.\")\n",
    "\n",
    "    with open(file_path, \"r\", encoding='utf-8') as f:\n",
    "        content = f.read()\n",
    "        print(\"Содержимое файла:\\n\", content)\n",
    "\n",
    "except FileNotFoundError:\n",
    "    print(f\"Ошибка: Файл или папка не найдены. Проверьте путь: {file_path}\")\n",
    "except Exception as e:\n",
    "    print(f\"Ошибка при работе с файлом {file_path}: {e}\")\n",
    "\n",
    "\n",
    "students = [\n",
    "    [\"Иванов И.И.\", 20, \"ИВТ-101\"],\n",
    "    [\"Петров П.П.\", 22, \"ИВТ-102\"],\n",
    "    [\"Сидорова А.А.\", 21, \"ИВТ-103\"]\n",
    "]\n",
    "\n",
    "\n",
    "try:\n",
    "    with open(csv_path, \"w\", encoding='utf-8') as f:\n",
    "        for student in students:\n",
    "            f.write(\",\".join(map(str, student)) + \"\\n\")\n",
    "    print(\"Файл students.csv успешно сохранен в Google Drive.\")\n",
    "\n",
    "except FileNotFoundError:\n",
    "    print(f\"Ошибка: Файл или папка не найдены. Проверьте путь: {csv_path}\")\n",
    "except Exception as e:\n",
    "    print(f\"Ошибка при работе с файлом {csv_path}: {e}\")\n",
    "\n",
    "\n",
    "# Проверка наличия файлов через командную строку (полезно для отладки)\n",
    "print(\"\\nСодержимое папки MyDrive:\")\n",
    "!ls /content/drive/MyDrive"
   ]
  }
 ],
 "metadata": {
  "kernelspec": {
   "display_name": "Python 3 (ipykernel)",
   "language": "python",
   "name": "python3"
  },
  "language_info": {
   "codemirror_mode": {
    "name": "ipython",
    "version": 3
   },
   "file_extension": ".py",
   "mimetype": "text/x-python",
   "name": "python",
   "nbconvert_exporter": "python",
   "pygments_lexer": "ipython3",
   "version": "3.12.7"
  }
 },
 "nbformat": 4,
 "nbformat_minor": 5
}
